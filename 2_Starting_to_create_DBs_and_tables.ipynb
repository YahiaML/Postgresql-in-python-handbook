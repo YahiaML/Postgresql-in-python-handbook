{
  "nbformat": 4,
  "nbformat_minor": 0,
  "metadata": {
    "colab": {
      "provenance": [],
      "authorship_tag": "ABX9TyMQJLW5/315kKWtFZnEuMYJ",
      "include_colab_link": true
    },
    "kernelspec": {
      "name": "python3",
      "display_name": "Python 3"
    },
    "language_info": {
      "name": "python"
    }
  },
  "cells": [
    {
      "cell_type": "markdown",
      "metadata": {
        "id": "view-in-github",
        "colab_type": "text"
      },
      "source": [
        "<a href=\"https://colab.research.google.com/github/YahiaML/Postgresql-in-python-handbook/blob/main/2_Starting_to_create_DBs_and_tables.ipynb\" target=\"_parent\"><img src=\"https://colab.research.google.com/assets/colab-badge.svg\" alt=\"Open In Colab\"/></a>"
      ]
    },
    {
      "cell_type": "code",
      "execution_count": null,
      "metadata": {
        "id": "XxxARHXHrqDg"
      },
      "outputs": [],
      "source": [
        "#!pip install psycopg2\n",
        "import psycopg2"
      ]
    },
    {
      "cell_type": "code",
      "source": [
        "# Change the valus below depending on your values.\n",
        "conn = psycopg2.connect(\"host=localhost dbname=postgres user=postgres password=123456789\")\n",
        "\n",
        "# Connect\n",
        "cur = conn.cursor()\n",
        "\n",
        "# Set autocommit=True to save your time and minimize errors\n",
        "conn.set_session(autocommit=True)\n",
        "\n",
        "#Add the database name within the CREATE DATABASE statement. You can choose your own db name.\n",
        "try:\n",
        "    cur.execute(\"create database Songs\")\n",
        "except psycopg2.Error as e:\n",
        "    print(e)\n",
        "\n",
        "# Close the connection to be able to connect to the newly created DB\n",
        "try:\n",
        "    conn.close()\n",
        "except psycopg2.Error as e:\n",
        "    print(e)\n",
        "\n",
        "\n",
        "# ================ Open the newly created DB (BUT BEFORE THAT OPEN PG ADMIN and open the DB so you can access it using the code) ================\n",
        "try:\n",
        "    conn = psycopg2.connect(\"host=localhost dbname=Songs user=postgres password=123456789\")  # You can use the same cridintails except for the dbname\n",
        "except psycopg2.Error as e:\n",
        "    print(\"Error: Could not make connection to the Postgres database\")\n",
        "    print(e)\n",
        "\n",
        "try:\n",
        "    cur = conn.cursor()\n",
        "except psycopg2.Error as e:\n",
        "    print(\"Error: Could not get curser to the Database\")\n",
        "    print(e)\n",
        "\n",
        "conn.set_session(autocommit=True)\n",
        "\n",
        "# ================ Create a table ================\n",
        "try:\n",
        "    cur.execute(\"CREATE TABLE IF NOT EXISTS song_library (song_title varchar, artist_name varchar, year int, album_name varchar, single varchar);\")\n",
        "except psycopg2.Error as e:\n",
        "    print(\"Error: Issue creating table\")\n",
        "    print (e)\n",
        "\n",
        "\n",
        "#================ Insert values in table ================\n",
        "try:\n",
        "    cur.execute(\"INSERT INTO song_library (song_title, artist_name, year, album_name, single) \\\n",
        "                 VALUES (%s, %s, %s, %s, %s)\", \\\n",
        "                 (\"Across The Universe\", \"The Beatles\", \"1970\", \"Let It Be\", \"False\"))\n",
        "except psycopg2.Error as e:\n",
        "    print(\"Error: Inserting Rows\")\n",
        "    print (e)\n",
        "\n",
        "try:\n",
        "    cur.execute(\"INSERT INTO song_library (song_title, artist_name, year, album_name, single) \\\n",
        "                  VALUES (%s, %s, %s, %s, %s)\",\n",
        "                  (\"Think For Yourself\", \"The Beatles\", \"1965\", \"Rubber Soul\", \"False\"))\n",
        "\n",
        "except psycopg2.Error as e:\n",
        "    print(\"Error: Inserting Rows\")\n",
        "    print (e)\n",
        "\n",
        "# ================ Print values ================\n",
        "try:\n",
        "    cur.execute(\"SELECT * FROM song_library;\")\n",
        "except psycopg2.Error as e:\n",
        "    print(\"Error: select *\")\n",
        "    print (e)\n",
        "\n",
        "row = cur.fetchone()\n",
        "while row:\n",
        "   print(row)\n",
        "   row = cur.fetchone()\n",
        "\n",
        "# ================ Close the connection ================\n",
        "cur.close()\n",
        "conn.close()"
      ],
      "metadata": {
        "id": "KK8UuLRor0HW"
      },
      "execution_count": null,
      "outputs": []
    },
    {
      "cell_type": "code",
      "source": [],
      "metadata": {
        "id": "aO1Ow4y2vIek"
      },
      "execution_count": null,
      "outputs": []
    }
  ]
}