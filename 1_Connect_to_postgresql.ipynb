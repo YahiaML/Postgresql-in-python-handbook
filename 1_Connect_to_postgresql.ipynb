{
  "nbformat": 4,
  "nbformat_minor": 0,
  "metadata": {
    "colab": {
      "provenance": [],
      "authorship_tag": "ABX9TyPYagbBC5djX5XINYhtRtgX",
      "include_colab_link": true
    },
    "kernelspec": {
      "name": "python3",
      "display_name": "Python 3"
    },
    "language_info": {
      "name": "python"
    }
  },
  "cells": [
    {
      "cell_type": "markdown",
      "metadata": {
        "id": "view-in-github",
        "colab_type": "text"
      },
      "source": [
        "<a href=\"https://colab.research.google.com/github/YahiaML/Postgresql-in-python-handbook/blob/main/1_Connect_to_postgresql.ipynb\" target=\"_parent\"><img src=\"https://colab.research.google.com/assets/colab-badge.svg\" alt=\"Open In Colab\"/></a>"
      ]
    },
    {
      "cell_type": "markdown",
      "source": [
        "First: Install postgresql using the instructions found in that video: https://www.youtube.com/watch?v=KuQUNHCeKCk&list=PLrOQsSoS-V6_4OUM1-9d6x-zTESw_CmeN&index=3\n",
        "\n",
        "Second: Create a server, and copy its host, dbname, user name, and its password.\n",
        "\n",
        "Third: Run the code below and you are ready to go."
      ],
      "metadata": {
        "id": "6y8vV30Ug1-e"
      }
    },
    {
      "cell_type": "code",
      "source": [
        "#!pip install psycopg2\n",
        "import psycopg2"
      ],
      "metadata": {
        "id": "HAaI1_JLh0ps"
      },
      "execution_count": null,
      "outputs": []
    },
    {
      "cell_type": "code",
      "execution_count": null,
      "metadata": {
        "id": "eCqqX5GvgttE"
      },
      "outputs": [],
      "source": [
        "# Change the valus below depending on your values.\n",
        "conn = psycopg2.connect(\"host=localhost dbname=postgres user=postgres password=123456789\")\n",
        "\n",
        "# Connect\n",
        "cur = conn.cursor()\n",
        "\n",
        "# Set autocommit=True to save your time and minimize errors\n",
        "conn.set_session(autocommit=True)\n",
        "\n",
        "# Start to do what you want\n",
        "cur.execute(\"CREATE TABLE test (col1 int, col2 int, col3 int);\")\n",
        "cur.execute(\"select * from test\")\n",
        "cur.execute(\"select count(*) from test\")\n",
        "print(cur.fetchall())\n",
        "\n"
      ]
    }
  ]
}